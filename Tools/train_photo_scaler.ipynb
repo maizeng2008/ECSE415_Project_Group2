{
 "cells": [
  {
   "cell_type": "code",
   "execution_count": null,
   "metadata": {},
   "outputs": [],
   "source": [
    "import numpy as np\n",
    "import os\n",
    "from PIL import Image\n",
    "import matplotlib.pyplot as plt"
   ]
  },
  {
   "cell_type": "code",
   "execution_count": null,
   "metadata": {},
   "outputs": [],
   "source": [
    "MAI_PATH = './MAI_TRAIN'\n",
    "LILY_PATH = './LILY_TRAIN'\n",
    "NAME_800 = '800_AND_{}.png'\n",
    "NAME_600 = '600_AND_{}.png'\n",
    "NAME_ORG = 'NORMAL_AND_{}.png'"
   ]
  },
  {
   "cell_type": "code",
   "execution_count": null,
   "metadata": {},
   "outputs": [],
   "source": [
    "def crop_center(img,cropx,cropy):\n",
    "    y,x,_ = img.shape\n",
    "    startx = x//2-(cropx//2)\n",
    "    starty = y//2-(cropy//2)    \n",
    "    return img[starty:starty+cropy,startx:startx+cropx]"
   ]
  },
  {
   "cell_type": "code",
   "execution_count": null,
   "metadata": {},
   "outputs": [],
   "source": [
    "images = []\n",
    "paths = [MAI_PATH, LILY_PATH]\n",
    "for path in paths:\n",
    "    index = 0\n",
    "    data = os.listdir(path)\n",
    "    for file in data: \n",
    "        if not file.endswith('.jpg'):\n",
    "            continue\n",
    "        img = Image.open(path + '/'+ file)\n",
    "        img = np.array(img)\n",
    "        new_img_800 = crop_center(img, 800, 800)\n",
    "        print(new_img_800.shape)\n",
    "        new_img_600 = crop_center(img, 600, 600)\n",
    "        plt.axis('off')\n",
    "        plt.imshow(new_img_800)\n",
    "        plt.savefig(NAME_800.format(index),bbox_inches='tight',transparent=True, pad_inches=0)\n",
    "        plt.axis('off')\n",
    "        plt.imshow(new_img_600)\n",
    "        plt.savefig(NAME_600.format(index),bbox_inches='tight',transparent=True, pad_inches=0)\n",
    "        plt.axis('off')\n",
    "        plt.imshow(img)\n",
    "        plt.savefig(NAME_ORG.format(index),bbox_inches='tight',transparent=True, pad_inches=0)\n",
    "        index += 1\n",
    "    \n"
   ]
  },
  {
   "cell_type": "code",
   "execution_count": null,
   "metadata": {},
   "outputs": [],
   "source": []
  },
  {
   "cell_type": "code",
   "execution_count": null,
   "metadata": {},
   "outputs": [],
   "source": []
  }
 ],
 "metadata": {
  "kernelspec": {
   "display_name": "Python 3",
   "language": "python",
   "name": "python3"
  },
  "language_info": {
   "codemirror_mode": {
    "name": "ipython",
    "version": 3
   },
   "file_extension": ".py",
   "mimetype": "text/x-python",
   "name": "python",
   "nbconvert_exporter": "python",
   "pygments_lexer": "ipython3",
   "version": "3.6.5"
  }
 },
 "nbformat": 4,
 "nbformat_minor": 2
}
